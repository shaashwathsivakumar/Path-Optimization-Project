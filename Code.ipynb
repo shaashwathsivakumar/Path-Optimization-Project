{
  "cells": [
    {
      "cell_type": "code",
      "execution_count": 38,
      "metadata": {
        "id": "l6LECOnYeZDy"
      },
      "outputs": [],
      "source": [
        "import gspread\n",
        "from oauth2client.service_account import ServiceAccountCredentials\n",
        "import time\n",
        "import math\n",
        "import pandas as pd\n",
        "import numpy as np\n",
        "import matplotlib.pyplot as plt"
      ]
    },
    {
      "cell_type": "markdown",
      "source": [],
      "metadata": {
        "id": "7ufL_4zCLimN"
      }
    },
    {
      "cell_type": "code",
      "source": [
        "# Creates a matrix based on the collected data\n",
        "\n",
        "non = pd.read_csv(\"walk.csv\", header = None)\n",
        "wheel = pd.read_csv(\"chair.csv\", header = None)\n",
        "wheel.loc[0,0] = float('NaN')\n",
        "data = [non, wheel]\n",
        "mat1 = [[0 for _ in range(21)] for _ in range(21)]\n",
        "mat2 = [[0 for _ in range(21)] for _ in range(21)]\n",
        "\n",
        "for i in range(0, 21):\n",
        "  for j in range(0, 21):\n",
        "    if i == j:\n",
        "      mat1[i][j] = ''\n",
        "    elif np.isnan(data[0].iloc[i, j]):\n",
        "      mat1[i][j] = ''\n",
        "    else:\n",
        "      mat1[i][j] = float(data[0].iloc[i, j])\n",
        "#print(mat1)\n",
        "for i in range(0, 21):\n",
        "  for j in range(0, 21):\n",
        "    if i == j:\n",
        "      mat2[i][j] = ''\n",
        "    elif pd.isnull(data[1].iloc[i, j]):\n",
        "      mat2[i][j] = ''\n",
        "    else:\n",
        "      mat2[i][j] = float(data[1].iloc[i, j])\n",
        "\n",
        "data = [mat1, mat2]\n",
        "\n",
        "# A few trials\n",
        "\n",
        "#1 - 4\n",
        "data[1][0][3] = 160\n",
        "data[1][3][0] = 160\n",
        "\n",
        "#8 - 9\n",
        "data[1][7][8] = 270\n",
        "data[1][8][7] = 240\n",
        "\n",
        "#15-19\n",
        "data[1][14][18] = 90\n",
        "data[1][18][14] = 90\n",
        "\n",
        "#8 - 9\n",
        "#9 -8\n",
        "#4-1 and 1-4 = 385\n",
        "print(data)"
      ],
      "metadata": {
        "id": "NtE2Mmrjsbzg",
        "colab": {
          "base_uri": "https://localhost:8080/"
        },
        "outputId": "680bf643-8428-499f-8321-97d5e7a5ac73"
      },
      "execution_count": 93,
      "outputs": [
        {
          "output_type": "stream",
          "name": "stdout",
          "text": [
            "[[['', 97.28, 205.66, 51.28, '', '', '', '', '', '', '', '', '', '', '', '', '', '', '', '', ''], [85.34, '', '', '', 106.75, '', '', '', '', '', '', 169.41, '', '', '', '', '', '', '', '', ''], [216.58, '', '', 107.85, '', '', 69.19, 109.4, '', '', '', '', '', '', '', '', '', '', '', '', ''], [59.84, '', 92.34, '', 110.39, 105.37, '', '', '', '', '', '', '', '', '', '', '', '', '', '', ''], ['', 114.99, '', 110.39, '', '', '', '', '', 63.85, '', 106.19, '', '', '', '', '', '', '', '', ''], ['', '', '', 97.41, '', '', '', 93.97, 130.63, '', '', '', '', '', '', '', '', '', '', '', ''], ['', '', 69.19, '', '', '', '', 130.63, '', '', '', '', '', 92.56, '', '', '', '', '', '', ''], ['', '', 109.4, '', '', 93.97, 65.7, '', 101.49, '', '', '', 64.58, '', 113.4, '', '', '', '', '', ''], ['', '', '', '', '', 107.52, '', 72.93, '', 56.71, 56.71, '', 60.31, '', '', 126.62, '', '', '', '', ''], ['', '', '', '', 63.85, '', '', '', 56.71, '', 30.34, 43.33, '', '', '', '', '', '', '', '', ''], ['', '', '', '', '', '', '', '', 56.71, 30.34, '', 42.21, '', '', '', '', 63.85, '', '', '', ''], ['', 171.38, '', '', 106.19, '', '', '', '', 43.33, 42.21, '', '', '', '', '', 110.97, '', '', '', 205.89], ['', '', '', '', '', '', '', 54.25, 63.55, '', '', '', '', '', 68.35, 101.93, '', '', '', '', ''], ['', '', '', '', '', '', 92.56, '', '', '', '', '', '', '', 69.17, '', '', 79.06, '', '', ''], ['', '', '', '', '', '', '', 115.71, '', '', '', '', 91.41, 59.17, '', 98.7, '', 194.01, 133.45, '', ''], ['', '', '', '', '', '', '', '', 128.96, '', '', '', 79.9, '', 66.57, '', 48.85, '', 105.85, 79.06, ''], ['', '', '', '', '', '', '', '', '', '', 63.85, 111.37, '', '', '', 45.85, '', '', '', '', 88.11], ['', '', '', '', '', '', '', '', '', '', '', '', '', 79.85, 179.74, '', '', '', 86.7, '', ''], ['', '', '', '', '', '', '', '', '', '', '', '', '', '', 133.23, 110.85, '', 86.7, '', 54.82, ''], ['', '', '', '', '', '', '', '', '', '', '', '', '', '', '', 79.06, '', '', 43.93, '', 145.41], ['', '', '', '', '', '', '', '', '', '', '', 212.11, '', '', '', '', 88.11, '', '', 145.41, '']], [['', 117.03, '', 160, 163.37, '', '', '', '', '', '', '', '', '', '', '', '', '', '', '', ''], [108.13, '', '', '', 200.43, '', '', '', '', '', '', 283.96, '', '', '', '', '', '', '', '', ''], ['', '', '', 168.32, '', '', 112.24, 122.13, '', '', '', '', '', '', '', '', '', '', '', '', ''], [160, '', 167.36, '', 86.58, '', '', '', '', '', '', '', '', '', '', '', '', '', '', '', ''], [163.37, 227.27, '', 85.27, '', '', '', '', '', 128.57, '', 184.12, '', '', '', '', '', '', '', '', ''], ['', '', '', '', '', '', '', '', '', '', '', '', '', '', '', '', '', '', '', '', ''], ['', '', 127.08, '', '', '', '', 71.44, '', '', '', '', '', 107.12, '', '', '', '', '', '', ''], ['', '', 131.13, '', '', '', 65.34, '', 270, '', '', '', '', '', 116.04, '', '', '', '', '', ''], ['', '', '', '', '', '', '', 240, '', 161.04, 152.49, '', '', '', '', 98.94, '', '', '', '', ''], ['', '', '', '', 135.27, '', '', '', 163.29, '', 37.9, 74.43, '', '', '', '', '', '', '', '', ''], ['', '', '', '', '', '', '', '', 159.16, 37.9, '', 74.43, '', '', '', '', 199.99, '', '', '', ''], ['', 293.94, '', '', 179.18, '', '', '', '', 74.43, 74.43, '', '', '', '', '', 214.42, '', '', '', 248.45], ['', '', '', '', '', 179.18, '', '', '', '', '', '', '', '', 57.87, 215.95, '', '', '', '', ''], ['', '', '', '', '', '', 108.89, '', '', '', '', '', '', '', 110.04, '', '', 87.29, '', '', ''], ['', '', '', '', '', '', '', 113.24, '', '', '', '', 58.3, 105.72, '', '', '', '', 90, '', ''], ['', '', '', '', '', '', '', '', 98.94, '', '', '', 191.72, '', '', '', 50.35, '', 173.62, 95.17, ''], ['', '', '', '', '', '', '', '', '', '', 133.29, 207.71, '', '', '', 50.35, '', '', '', '', 217.93], ['', '', '', '', '', '', '', '', '', '', '', '', '', 90.46, '', '', '', '', '', '', ''], ['', '', '', '', '', '', '', '', '', '', '', '', '', '', 90, 196.67, '', '', '', 108.65, ''], ['', '', '', '', '', '', '', '', '', '', '', '', '', '', '', 88.02, '', '', 90.41, '', 168.63], ['', '', '', '', '', '', '', '', '', '', '', 243.45, '', '', '', '', 222.3, '', '', 140.79, '']]]\n"
          ]
        }
      ]
    },
    {
      "cell_type": "code",
      "source": [],
      "metadata": {
        "id": "oHY9N-Ig0Uof"
      },
      "execution_count": 92,
      "outputs": []
    },
    {
      "cell_type": "code",
      "execution_count": 94,
      "metadata": {
        "id": "h1pZt9IyuKsf"
      },
      "outputs": [],
      "source": [
        "# Implements Dijkstra's algorithm to find the quickest time taken to go froma  certain starting node to an ending node within the UCLA Campus\n",
        "\n",
        "\n",
        "import copy\n",
        "import statistics\n",
        "m1 = copy.deepcopy(data[0])\n",
        "m2 = copy.deepcopy(data[1])\n",
        "datas = [m1, m2]\n",
        "for n in range(0, 2):\n",
        "  for i in range(0, 21):\n",
        "    for j in range(0, 21):\n",
        "      if i == j:\n",
        "        datas[n][i][j] = 0\n",
        "      elif datas[n][i][j] == '':\n",
        "        datas[n][i][j] = float('inf')\n",
        "      else:\n",
        "        datas[n][j][j] = float(datas[n][i][j])\n",
        "def connected_node_times(start, end, num):\n",
        "  if(start == end):\n",
        "    return 0\n",
        "  direct_time = datas[num][start][end]\n",
        "  between_nodes = []\n",
        "  length = 0\n",
        "  for i in range(0, 21):\n",
        "    vec = [i != start, i != end, math.isinf(datas[num][start][i]) == False, math.isinf(datas[num][i][end]) == False, i != j]\n",
        "    if all(item == True for item in vec):\n",
        "      between_nodes.append(i)\n",
        "      length = length + 1\n",
        "  indirect_times = [0 for _ in range(length)]\n",
        "  for i in range(0, length):\n",
        "    indirect_times[i] = datas[num][start][between_nodes[i]] + datas[num][between_nodes[i]][end]\n",
        "  if math.isinf(datas[num][start][end]) == True:\n",
        "    if len(indirect_times) > 0:\n",
        "      return min(indirect_times)\n",
        "    else:\n",
        "      return 9999\n",
        "  else:\n",
        "    allthetimes = [0 for _ in range(length + 1)]\n",
        "    allthetimes[0] = direct_time\n",
        "    for k in range(0, length):\n",
        "      allthetimes[k + 1] = indirect_times[k]\n",
        "    if len(allthetimes) > 0:\n",
        "      return min(allthetimes)\n",
        "    else:\n",
        "      return 9999\n",
        "def get_Time(start, end, num):\n",
        "  mat = datas[num]\n",
        "  counter = 0\n",
        "  change = True\n",
        "  if start == 6 and num == 1:\n",
        "    start, end = (end, start)\n",
        "  while change:\n",
        "    change = False\n",
        "    counter = counter + 1\n",
        "    for i in range(0, 21):\n",
        "      for j in range(0, 21):\n",
        "        if connected_node_times(i, j, num) != 9999 and connected_node_times(i, j, num) < datas[num][i][j]:\n",
        "          datas[num][i][j] = connected_node_times(i, j, num)\n",
        "          change = True\n",
        "  return datas[num][start - 1][end - 1]\n",
        "\n",
        "def get_mean_commute_time(n):\n",
        "  sum = []\n",
        "  for i in range(1, 22):\n",
        "    for j in range(1, 22):\n",
        "      if (math.isinf(get_Time(i, j, n)) == False) and (get_Time(i, j, n) != 0):\n",
        "        sum.append(get_Time(i, j, n))\n",
        "  return statistics.mean(sum)\n"
      ]
    },
    {
      "cell_type": "code",
      "execution_count": 95,
      "metadata": {
        "colab": {
          "base_uri": "https://localhost:8080/"
        },
        "id": "06D9kp_B1p_C",
        "outputId": "2f94de86-4592-43d1-e5ff-e9efd0fbfff4"
      },
      "outputs": [
        {
          "output_type": "stream",
          "name": "stdout",
          "text": [
            "97.28\n",
            "0\n",
            "161.67000000000002\n",
            "156.65\n",
            "266.69\n",
            "9999\n",
            "114.99\n",
            "101.49\n",
            "270\n",
            "643.01\n",
            "643.01\n"
          ]
        }
      ],
      "source": [
        "# Tests the get_Time and connected_node_times functions\n",
        "\n",
        "print(connected_node_times(0, 1, 0)) #2 to 1: Most efficient path is 2 to 1\n",
        "print(connected_node_times(1, 1, 0)) #2 to 2:\n",
        "print(connected_node_times(0, 4, 0)) #1 to 5: Most efficient path is 1 to 4 to 5\n",
        "print(connected_node_times(0, 5, 0)) #1 to 6: Most efficient path is 1 to 4 to 6\n",
        "print(connected_node_times(0, 11, 0)) #1 to 12: Most efficient path is 1 to 2 to 11\n",
        "print(connected_node_times(0, 20, 0))\n",
        "\n",
        "print(get_Time(5, 2, 0))\n",
        "print(get_Time(8, 9, 0))\n",
        "print(get_Time(8, 9, 1))\n",
        "print(get_Time(6, 4, 1))\n",
        "print(get_Time(4, 6, 1))"
      ]
    },
    {
      "cell_type": "code",
      "source": [
        "# Creates a matrix filled with the quickest time it takes for each path.\n",
        "\n",
        "import pandas as pd\n",
        "\n",
        "finalmat = [[0 for _ in range(21)]for _ in range(21)]\n",
        "final_mat = [[[0 for _ in range(21)]for _ in range(21)], [[0 for _ in range(21)]for _ in range(21)]]\n",
        "for n in range(0, 2):\n",
        "  for i in range(1, len(finalmat) + 1):\n",
        "    for j in range(1, len(finalmat[i - 1]) + 1):\n",
        "        final_mat[n][i - 1][j - 1] = get_Time(i, j, n)"
      ],
      "metadata": {
        "id": "YaoGSTmB9Z2m"
      },
      "execution_count": 97,
      "outputs": []
    },
    {
      "cell_type": "code",
      "source": [
        "# Data Visualization\n",
        "able_times = pd.DataFrame(final_mat[0])\n",
        "disabled_times = pd.DataFrame(final_mat[0])\n",
        "vec_able = []\n",
        "vec_disable = []\n",
        "for i in range(0, 21):\n",
        "  for j in range(0, 21):\n",
        "    if i != j:\n",
        "      vec_able.append(final_mat[0][i][j])\n",
        "      vec_disable.append(final_mat[1][i][j])\n",
        "mat = [vec_able, vec_disable]\n",
        "plt.boxplot(mat)\n",
        "plt.title(\"times for non-disabled and disabled people\")\n",
        "plt.xticks([1, 2], ['Non-disabled', 'Disabled'])\n",
        "plt.ylabel('Times(seconds)')\n",
        "\n",
        "print(np.median(vec_able))\n",
        "print(np.median(vec_disable))"
      ],
      "metadata": {
        "colab": {
          "base_uri": "https://localhost:8080/",
          "height": 487
        },
        "id": "pud3zxDhX7Hi",
        "outputId": "18e0971a-5a20-491c-8b19-afd58c82bec5"
      },
      "execution_count": 98,
      "outputs": [
        {
          "output_type": "stream",
          "name": "stdout",
          "text": [
            "205.305\n",
            "366.87\n"
          ]
        },
        {
          "output_type": "display_data",
          "data": {
            "text/plain": [
              "<Figure size 640x480 with 1 Axes>"
            ],
            "image/png": "[encoded data removed]"
          },
          "metadata": {}
        }
      ]
    },
    {
      "cell_type": "code",
      "source": [
        "# Data Visualization\n",
        "\n",
        "new_vec = []\n",
        "\n",
        "for i in range(0, len(vec_able)):\n",
        "  if math.isinf(vec_disable[i]) == False:\n",
        "    new_vec.append((vec_disable[i] / vec_able[i]) - 1)\n",
        "\n",
        "print(new_vec)\n",
        "\n",
        "plt.hist(new_vec, density = True)\n",
        "plt.title(\"Percent Increase over control\")\n",
        "plt.xticks([0, 1, 2, 3, 4, 5], [0, 100, 200, 300, 400, 500])\n",
        "plt.xlabel(\"Control\")\n",
        "plt.ylabel(\"Relative Frequency\")"
      ],
      "metadata": {
        "colab": {
          "base_uri": "https://localhost:8080/",
          "height": 527
        },
        "id": "VBwwt-qQMvtB",
        "outputId": "d0115462-7bef-4150-ee7c-bf123043af2b"
      },
      "execution_count": 99,
      "outputs": [
        {
          "output_type": "stream",
          "name": "stdout",
          "text": [
            "[0.20302220394736836, 1.2793482801838185, 2.1201248049921997, 0.01051524710830698, 4.126141078838174, 1.065692401672854, 0.7935120900167585, 0.6129752329660205, 0.29451933309684275, 0.2891424998045806, 0.3029734898196408, 0.9791560913705581, 0.7903526869044111, 0.5535684852480633, 0.5159481343691874, 0.6572206061743453, 0.6492209244856022, 0.39139940143909335, 0.46043812693985875, 0.4612819381099509, 0.2670494492617763, 0.9020352900069881, 0.9625969843361146, 0.8775644028103045, 2.76519690896318, 0.8370954217675668, 0.8572475353050892, 1.1657208217852268, 0.9284876905041033, 0.7835672340001991, 0.6761702378844223, 1.5448856129615463, 0.6760512912390266, 0.8924628479928081, 0.7664499098635078, 0.8821707768420259, 0.5797943674564148, 0.7343753751590674, 0.6522966384398257, 0.5086710116180222, 0.9578985031904108, 0.6807563120353244, 0.5606861381548447, 0.16798020527859214, 1.3388405369523526, 0.6221997398467987, 0.11636197440584994, 0.8594053772108683, 0.43299701046337824, 0.574626307922272, 0.4170620703011525, 0.7040464421197838, 0.3561669242658425, 0.06898563734290852, 0.77981950636077, 0.6671388101983002, 0.2734105726506375, 0.002015205642575957, 0.23058286615770363, 0.46644222152251325, 1.6737967914438503, 0.7631746435845213, 0.812432315356292, -0.21568982697708128, 5.1024010629211345, 0.7309478115520338, 0.45224239991973514, 0.6386230785884388, 0.23479109274563803, 0.23692443054061973, 0.2498845692123004, 0.7574643831464081, 0.5219804006454407, 0.29670013429686004, 0.5189639811632938, 0.6877398204373577, 0.4228125469007957, 0.1802548529236634, 0.45561092184878227, 0.4560778594267123, -0.04029841978499682, 0.9764327332811551, 0.24614018645489066, -0.22755684391702147, 2.375417130144605, 0.4077317797754543, 0.9368442813582096, 1.420869276708693, 1.0136256851996865, 0.7673850727253424, 0.7338732460683681, 2.0358821252833526, 0.5304970978306691, 0.9693443543856834, 0.9167197998920988, 1.3187800556821063, 0.44348948251387266, 0.8222380060696068, 0.7175119279024562, 0.7573430834856796, 4.1065818759936406, 2.5796959101088275, 1.5067193675889325, 5.601067652191767, 2.504716073147257, 1.6614893217260596, 2.7620517186336064, 2.59672357038965, 2.3795772392441545, 2.316109746984093, 1.7692006098889128, 0.1301166824345632, 0.37779011219918335, 0.14519940203501003, 0.44178814382896014, 0.6770173971893785, 0.32204413052008807, -0.039140895487354, 0.2425738158246855, 0.6465664603595636, 0.9224924012158053, 0.7130416566914053, 0.8366816013874838, 0.6685494803434251, 0.3289496573078661, 0.8920747996438112, -0.45311184260889537, 0.47096329484749266, 0.7397084790361113, 0.71010629089776, 0.7100652489125181, 0.2590543517237849, 0.1573033707865168, 0.15921597724602732, 0.6909726222017432, 0.5866852043455768, 0.13279338072485736, 0.07417157014555609, 0.2330906303889635, 0.3960089584539117, 0.8288750895629329, 0.7104201281746976, 0.19862888482632535, 0.5646880551781794, 0.7384823238009457, 2.7620517186336064, -0.005479452054794498, 1.6603606266627255, 1.7246523388116306, 1.6706068268015173, 1.4795169901701515, 1.6995973985754103, 0.08972576772399865, 0.023280423280423346, 1.2157227794126482, 0.9469260772659731, 0.09451373672678254, -0.16532307069070273, 0.28146760597792886, 0.5926450720005274, 0.7361483551761905, 1.2112502653364468, 1.035485109416991, 0.8620016591031083, 1.4577803583278035, 3.369791666666667, 1.202553559835534, 2.2908268202385846, 1.8397108093810615, 1.6889437488979016, 1.293974929235746, 3.8194329298623773, 1.1959218442208384, 1.7089227421109903, -0.21860685515716316, 0.23830457863304577, 0.8724942860354454, 0.17245235944422932, -0.05625243096071564, 0.7383428379738342, 0.27580314422419683, 1.0271751286065758, 0.6227409638554215, 0.2657254361799817, 1.1185591229444012, 2.85514217865189, 1.3990478140677793, 2.1108454180808387, 1.879386351613472, 0.24917600527356631, 0.7177475190399263, 2.879251410015381, 1.3544205446961644, 1.7610724496952037, 0.8725364181662385, 1.5256396645079096, 1.0489493201483313, 0.7725405669201677, 0.631218621633957, 0.7711464618760284, 0.2727479010664853, 0.7610192178984607, 0.7812918340026771, 0.2632710919933523, 0.8385178893725451, 2.7827437130853077, 1.3779051909491145, 2.078987966676951, 1.8065596896490916, 0.24917600527356631, 0.7633262260127933, 2.777644847034695, 1.4278797145769628, 1.8361604356952408, 1.2820419325433, 2.1321848081440877, 1.1800165425971878, 0.9668754349338904, 0.8304195804195804, 1.1247696762305868, 0.33433312558429407, 0.7151359551873031, 0.5353244444444445, 0.2210268722873765, 0.6873528580845656, 2.079199767486921, 1.2687013260366236, 1.7558335757928423, 1.3614031540638898, 0.7177475190399263, 0.7633262260127933, 1.8668592601896625, 1.2333153250495226, 1.3542658366898572, 0.7429398986241853, 1.0216858382047898, 1.0535620971956101, 0.7007681564245811, 0.5583842057410053, 0.279548848946799, 1.0642288931809993, 1.4994650618522232, 0.8468683165291782, 0.9157269063225175, 2.0261256857313565, 0.20887869383349078, 0.9712380158399332, 2.154101382488479, 3.9549960660896932, 2.6378679527690005, 2.322717445534675, 1.91752323505878, 0.28285759096612306, -0.1533284564740307, 1.1186108113411164, 0.7661493566786046, 0.21444476716042216, -0.2672447968285431, 0.41731587380518254, 0.7796893967935032, 0.7128763963088878, 0.5966441694788152, 0.458856259659969, 0.4995919881305635, 0.42409121239374525, 0.2462614308768154, 0.17642610198789965, -0.024610558199913535, 1.0092357114174808, 1.1572069505768408, 1.0242007342196242, 0.9900551459198215, 0.048324822518371, 0.5908630909353767, 1.2892118901530942, 1.0055370985603544, 0.10409815330129013, 0.2068050193050195, 0.3994469126847404, 0.565856378965325, 0.5607609080751097, 0.7662031702133105, 0.10614702154626099, 0.34387313165521527, 0.8121007549361208, 0.1325829835940482, 0.17695907203585293, -0.021346469622331665, 1.4082989158492518, 1.3422780743610336, 1.165988647114475, 1.098931430148653, -0.3622141997593261, 0.786716241338516, 1.7786220871327254, 1.1999322263639445, 0.3962960283585326, -0.3255901086549269, 0.11751800180018002, 0.5585165068318763, 0.3793487484089946, 0.7149248167018765, 0.9300759597618558, 0.3933434190620273, 0.7246362801488715, 0.6258986498334209, 1.022917187890918, 1.526574729780097, -0.23278535980148884, 0.5487975391498883, 0.629458740017746, 0.6658705054547802, 1.399499374217772, 1.8257515508191506, 2.749286465374794, 0.030706243602866, 1.2986237340950404, 0.6402456306093529, 0.20376928914748293, 0.9261098130841121, 0.43123038961830185, 0.8373438816247301, 0.7982722874913615, 0.4593376299221399, 0.9391293343457356, 0.846939670291126, 0.8503459503459505, 1.162722222222222, 0.23830457863304577, 0.8174965495275508, 1.0875489428347689, 0.9584197623986423, 0.9250099403578529, 1.3641237834372633, 1.668030599537449, 0.0981461286804799, 1.067743288590604, 0.4764007910349375, 0.16499879913537763, 1.4733855408012713, 0.5997214688851427, 0.5235406755236198, 0.3511175496688743, 0.4157962512519673, 0.4373701908812184, 0.22102035126846964, 0.15625543761962768, 0.02289124768632189, 0.7790315152312652, 1.044364191549957, 1.1221273166800962, 1.0791295466152189, 0.07640477477852192, 0.13287413901064493, 0.34545698563951155, 1.403189066059225, 1.131087662337662, 2.350634371395617, 1.8204494064443186, 0.9788101627574668, 0.3580547984507245, 0.7301088438518246, 0.018489186719463868, 0.17415271062527737, 0.7419273619940829, -0.03389680502699355, 0.03654818416888572, -0.1704489795918367, 0.23268420833159587, 0.6472094214029696, 0.7012301498546185, 0.7110550872968093, -0.22254259501965923, 0.1751425998198739, -0.32447646926367935, 0.7741993685160127, 0.5467752035065747, 2.2642445213379467, 0.9819408974826707, 0.38480747140788085, 0.33324564864746375, 0.5962986980595602, 0.3166981804655775, 0.3374880153403641, 0.5556216121699595, 0.36040757861839956, 0.2871177082212899, 0.3772806153557524, -0.10124026535910025, 0.393786582620441, 0.4166666666666665, 0.47916399538402343, 0.5016985405133365, 0.39711914062499987, 0.2388244180457324, 0.11333164685049324, 0.08177624892502555, 1.858608282936538, 1.0580468927839743, 0.15968640396121314, 0.40736826936932613, 0.48803788004651927, 0.4981589891658498, 0.4245245975206149, 0.7169612025187895, 0.7669122995667161, 0.49719900542224615, 0.6203796949013463, 0.570661810514209, 0.7437191442676905, 1.0918662806001578, 0.2537982180563423, 0.7745253904423453, 0.6438968040046207, 0.6017553483269338, 0.7080471782621678, 1.5229826353421863, 0.862809737719171, 0.22108376465617408, -0.03177223024551268]\n"
          ]
        },
        {
          "output_type": "execute_result",
          "data": {
            "text/plain": [
              "Text(0, 0.5, 'Relative Frequency')"
            ]
          },
          "metadata": {},
          "execution_count": 99
        },
        {
          "output_type": "display_data",
          "data": {
            "text/plain": [
              "<Figure size 640x480 with 1 Axes>"
            ],
            "image/png": "[encoded data removed]"
          },
          "metadata": {}
        }
      ]
    },
    {
      "cell_type": "code",
      "source": [
        "# Testing\n",
        "\n",
        "for i in range(0, 21):\n",
        "  for j in range(0, 21):\n",
        "    if i != j:\n",
        "      if final_mat[1][i][j] / final_mat[0][i][j] >= 5 and math.isinf(final_mat[1][i][j]) == False:\n",
        "        print(\"[\", i, \", \", j, \"]: \", \"wheelchair = \", final_mat[1][i][j], \" walking = \", final_mat[0][i][j])\n"
      ],
      "metadata": {
        "colab": {
          "base_uri": "https://localhost:8080/"
        },
        "id": "-bTQ3NKORLU9",
        "outputId": "628447b4-7bb1-4e4e-888c-ecb0540eaae6"
      },
      "execution_count": 100,
      "outputs": [
        {
          "output_type": "stream",
          "name": "stdout",
          "text": [
            "[ 0 ,  5 ]:  wheelchair =  803.01  walking =  156.65\n",
            "[ 3 ,  5 ]:  wheelchair =  643.01  walking =  105.37\n",
            "[ 5 ,  0 ]:  wheelchair =  803.01  walking =  157.25\n",
            "[ 5 ,  3 ]:  wheelchair =  643.01  walking =  97.41\n"
          ]
        }
      ]
    },
    {
      "cell_type": "code",
      "execution_count": 77,
      "metadata": {
        "id": "vHKYxyWM9dKH"
      },
      "outputs": [],
      "source": [
        "# Customized Least Resistance Algorithm\n",
        "\n",
        "def least_resistance(start, end, d = 0):\n",
        "\n",
        "  # breaks if already at the end\n",
        "  if start == end:\n",
        "    return [0, [start]]\n",
        "  # sets default values, giving all adjoining nodes to start and end\n",
        "  completed = False\n",
        "  boo = True\n",
        "  spaths = []\n",
        "  if start == 6 and d == 1:\n",
        "    (start, end) = (end, start)\n",
        "    boo = False\n",
        "  for i in range(1,22):\n",
        "    if data[d][start-1][i-1] != \"\":\n",
        "      spaths.append([i])\n",
        "  epaths = []\n",
        "  for i in range(1,22):\n",
        "    if data[d][i-1][end-1] != \"\":\n",
        "      epaths.append([i])\n",
        "  voltage = 0\n",
        "  route = []\n",
        "  # main loop, increases voltage and runs a series of checks\n",
        "  while not completed:\n",
        "    voltage += 1\n",
        "    # for each set of paths, calculates residual voltage left over after subtracting resistance of each existing path\n",
        "    for paths in spaths:\n",
        "      residual = voltage\n",
        "      for i in range(len(paths)):\n",
        "        if i == 0:\n",
        "          residual -= float(data[d][start-1][paths[0]-1])\n",
        "        else:\n",
        "          residual -= float(data[d][paths[i-1]-1][paths[i]-1])\n",
        "      # checks if the residual is sufficient to complete another path\n",
        "      for i in range(1, 22):\n",
        "        if i != start and paths.count(i) == 0:\n",
        "          if data[d][paths[len(paths)-1]-1][i-1] != \"\":\n",
        "            if residual >= float(data[d][paths[len(paths)-1]-1][i-1]):\n",
        "              # appends the path as long as it isn't a duplicate\n",
        "              new_path = []\n",
        "              for element in paths:\n",
        "                new_path.append(element)\n",
        "              new_path.append(i)\n",
        "              duplicate = False\n",
        "              for expaths in spaths:\n",
        "                if expaths == new_path:\n",
        "                  duplicate = True\n",
        "              if not duplicate:\n",
        "                spaths.append(new_path)\n",
        "    # same implementation as above, but for the set of end paths\n",
        "    for paths in epaths:\n",
        "      residual = voltage\n",
        "      for i in range(len(paths)):\n",
        "        if i == 0:\n",
        "          residual -= float(data[d][paths[0]-1][end-1])\n",
        "        else:\n",
        "          residual -= float(data[d][paths[i]-1][paths[i-1]-1])\n",
        "      for i in range(1, 22):\n",
        "        if i != end and paths.count(i) == 0:\n",
        "          if data[d][i-1][paths[len(paths)-1]-1] != \"\":\n",
        "            if residual >= float(data[d][i-1][paths[len(paths)-1]-1]):\n",
        "              new_path = []\n",
        "              for element in paths:\n",
        "                new_path.append(element)\n",
        "              new_path.append(i)\n",
        "              duplicate = False\n",
        "              for expaths in epaths:\n",
        "                if expaths == new_path:\n",
        "                  duplicate = True\n",
        "                  break\n",
        "              if not duplicate:\n",
        "                epaths.append(new_path)\n",
        "    # check condition for start and end paths meeting at a node\n",
        "    checklist = [False] * 21\n",
        "    for paths in spaths:\n",
        "      checklist[paths[len(paths)-1]-1] = True\n",
        "    for paths in epaths:\n",
        "      if checklist[paths[len(paths)-1]-1]:\n",
        "        # makes sure that the completion isn't from the default values with insufficient voltage\n",
        "        if data[d][start-1][paths[len(paths)-1]-1] != \"\" and len(paths) == 1:\n",
        "          if voltage * 2 <= float(data[d][start-1][paths[len(paths)-1]-1]) + float(data[d][paths[len(paths)-1]-1][end-1]):\n",
        "            continue\n",
        "        # creates the route by splicing together the start and reversed end path\n",
        "        route.append(start)\n",
        "        for paths_s in spaths:\n",
        "          if paths_s[len(paths_s)-1] == paths[len(paths)-1]:\n",
        "            for element in paths_s:\n",
        "              route.append(element)\n",
        "            break\n",
        "        for i in range(len(paths)-2, -1, -1):\n",
        "          route.append(paths[i])\n",
        "        route.append(end)\n",
        "        completed = True\n",
        "        break\n",
        "    # check condition for start and end paths meeting on a path\n",
        "    for paths_s in spaths:\n",
        "      # finds the residual of all possible start and end paths\n",
        "      if not completed:\n",
        "        sresidual = voltage\n",
        "        for i in range(len(paths_s)):\n",
        "          if i == 0:\n",
        "            sresidual -= float(data[d][start-1][paths_s[0]-1])\n",
        "          else:\n",
        "            sresidual -= float(data[d][paths_s[i-1]-1][paths_s[i]-1])\n",
        "        for paths_e in epaths:\n",
        "          eresidual = voltage\n",
        "          for j in range(len(paths_e)):\n",
        "            if j == 0:\n",
        "              eresidual -= float(data[d][paths_e[0]-1][end-1])\n",
        "            else:\n",
        "              eresidual -= float(data[d][paths_e[j]-1][paths_e[j-1]-1])\n",
        "          # checks if the end nodes are adjoining and sum of residuals can span it\n",
        "          if data[d][paths_s[len(paths_s)-1]-1][paths_e[len(paths_e)-1]-1] != \"\":\n",
        "            if sresidual + eresidual > float(data[d][paths_s[len(paths_s)-1]-1][paths_e[len(paths_e)-1]-1]):\n",
        "              # creates the route by splicing together the start and reversed end path\n",
        "              route.append(start)\n",
        "              for element in paths_s:\n",
        "                route.append(element)\n",
        "              for k in range(len(paths_e)-1, -1, -1):\n",
        "                route.append(paths_e[k])\n",
        "              route.append(end)\n",
        "              completed = True\n",
        "              break\n",
        "  # calculates time using the paths from the route data\n",
        "  time = 0\n",
        "  for i in range(1, len(route)):\n",
        "    time += float(data[d][route[i-1]-1][route[i]-1])\n",
        "  # if start and end is connected, check this value against time\n",
        "  if data[d][start-1][end-1] != \"\":\n",
        "    if float(data[d][start-1][end-1]) < time:\n",
        "      time = float(data[d][start-1][end-1])\n",
        "      route = [start, end]\n",
        "  if boo == False:\n",
        "    route = route[::-1]\n",
        "  return [time, route]\n"
      ]
    },
    {
      "cell_type": "code",
      "source": [
        "# Tests\n",
        "\n",
        "print(least_resistance(1, 2, 0)[0])\n",
        "print(get_Time(1, 6, 1))\n",
        "print(data[0][8][8])\n",
        "print(least_resistance(3, 9, 1)[0])\n",
        "print(get_Time(3, 9, 1))"
      ],
      "metadata": {
        "colab": {
          "base_uri": "https://localhost:8080/"
        },
        "id": "Fmiznrpkc0Sy",
        "outputId": "b9ec5bb5-da9f-42dd-b054-be300ed2fe6f"
      },
      "execution_count": 101,
      "outputs": [
        {
          "output_type": "stream",
          "name": "stdout",
          "text": [
            "97.28\n",
            "803.01\n",
            "\n",
            "392.13\n",
            "392.13\n"
          ]
        }
      ]
    },
    {
      "cell_type": "markdown",
      "source": [],
      "metadata": {
        "id": "ZYRX-IDlZQCW"
      }
    },
    {
      "cell_type": "code",
      "execution_count": 92,
      "metadata": {
        "colab": {
          "base_uri": "https://localhost:8080/"
        },
        "id": "GZtwD1CebF4J",
        "outputId": "25a62f38-18fa-4ebf-9230-a0d38eabdcd1"
      },
      "outputs": [
        {
          "output_type": "stream",
          "name": "stdout",
          "text": [
            "Accuracy =  0.9648526077097506\n"
          ]
        }
      ],
      "source": [
        "# Computes the accuracy of the model. Dijkstra's Algorithm vs Least Resistance Algorithm\n",
        "\n",
        "def identicaltimes():\n",
        "  count = 0\n",
        "  for p in range(0, 2):\n",
        "    for i in range(1, 22):\n",
        "      for j in range(1, 22):\n",
        "        if abs(get_Time(i, j, p) - least_resistance(i, j, p)[0]) > 1.0:\n",
        "          count = count + 1\n",
        "  return count\n",
        "print(\"Accuracy = \", 1 - (identicaltimes()/(21 * 21 * 2)))\n",
        "\n",
        "\n"
      ]
    },
    {
      "cell_type": "code",
      "source": [
        "# Table of Data in LaTex for our Report\n",
        "\\documentclass{article}\n",
        "\\usepackage{tabularx}\n",
        "\\begin{document}\n",
        "\\begin{tabularx}{1\\textwidth} {\n",
        "  | >{\\raggedleft\\arraybackslash}X\n",
        "  | >{\\centering\\arraybackslash}X\n",
        "  | >{\\raggedleft\\arraybackslash}X\n",
        "  | >{\\centering\\arraybackslash }X|}\n",
        "\n",
        "  \\hline\n",
        " TABLE & LOCATION DESCRIPTION & COORDINATES & ELEVATION (ft) \\\\\n",
        " \\hline\n",
        " 1 & Northern Lights & 34.074291, -118.442521 & 448.8 \\\\\n",
        " \\hline\n",
        " 2  & Bunche Hall  & 34.074257, -118.440335 & 459.3  \\\\\n",
        "\\hline\n",
        "3  & Anderson School  & 34.073473, -118.443653 & 416.2 \\\\\n",
        "\\hline\n",
        "4  & Parking Str  & 34.073471, -118.442710 & 432.2  \\\\\n",
        "\\hline\n",
        "5  & Rolfe Hall  & 34.073507, -118.441700 & 449.1  \\\\\n",
        "\\hline\n",
        "6  & Bottom Jan Steps  & 34.072626, -118.442746 & 435.7  \\\\\n",
        "\\hline\n",
        "7  & Wilson Plaza  & 34.072209, -118.444543 & 400.2  \\\\\n",
        "\\hline\n",
        "8  & Cout of Philantropy  & 34.072222, -118.443639 & 409.4  \\\\\n",
        "\\hline\n",
        "9  & Top Jan Steps  & 34.072186, -118.442686 & 443.7 \\\\\n",
        "\\hline\n",
        "10  & Royce-Hainz  & 34.072428, -118.441654 & 449.4  \\\\\n",
        "\\hline\n",
        "11  & Powell-Kaplan  & 34.072016, -118.441640 & 449.1  \\\\\n",
        "\\hline\n",
        "12  & Large Flag  & 34.072212, -118.440937 & 444.2  \\\\\n",
        "\\hline\n",
        "13  & Election Walk  & 34.071603, -118.443200 & 421  \\\\\n",
        "\\hline\n",
        "14  & UCLA Bruin Statue  & 34.070987, -118.444762 & 393.7  \\\\\n",
        "\\hline\n",
        "15  & Bottom Kerckhoff Steps  & 34.070967, -118.443631 & 403.2  \\\\\n",
        "\\hline\n",
        "16  & Moore's Hall  & 34.070974, -118.442612 & 442  \\\\\n",
        "\\hline\n",
        "17  & Physics Building  & 34.070984, -118.441646 & 444.7  \\\\\n",
        "\\hline\n",
        "18  & Computer Science Department  & 34.069817, -118.444542 & 397  \\\\\n",
        "\\hline\n",
        "19  & Math-Sciences & 34.069825, -118.442942 & 434.2  \\\\\n",
        "\\hline\n",
        "20  & Franz Hall  & 34.069877, -118.442096 & 437.4  \\\\\n",
        "\\hline\n",
        "21  & Large Water Fountain  & 34.069979, -118.440808 & 426  \\\\\n",
        "\\hline\n",
        "\n",
        "\n",
        "\\end{tabularx}\n",
        "\\end{document}"
      ],
      "metadata": {
        "id": "QLDROeo4Lk0q"
      },
      "execution_count": null,
      "outputs": []
    }
  ],
  "metadata": {
    "colab": {
      "provenance": []
    },
    "kernelspec": {
      "display_name": "Python 3",
      "name": "python3"
    },
    "language_info": {
      "name": "python"
    }
  },
  "nbformat": 4,
  "nbformat_minor": 0
}